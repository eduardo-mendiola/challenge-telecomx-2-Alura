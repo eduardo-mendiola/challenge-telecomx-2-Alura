{
  "nbformat": 4,
  "nbformat_minor": 0,
  "metadata": {
    "colab": {
      "provenance": [],
      "authorship_tag": "ABX9TyMLxyBqVvxFLiw1bF837Gm+",
      "include_colab_link": true
    },
    "kernelspec": {
      "name": "python3",
      "display_name": "Python 3"
    },
    "language_info": {
      "name": "python"
    }
  },
  "cells": [
    {
      "cell_type": "markdown",
      "metadata": {
        "id": "view-in-github",
        "colab_type": "text"
      },
      "source": [
        "<a href=\"https://colab.research.google.com/github/eduardo-mendiola/challenge-telecomx-2-Alura/blob/main/challenge_telecomx_parte2.ipynb\" target=\"_parent\"><img src=\"https://colab.research.google.com/assets/colab-badge.svg\" alt=\"Open In Colab\"/></a>"
      ]
    },
    {
      "cell_type": "markdown",
      "source": [
        "# Challenge Telecom X Parte2  - Análisis de Evasión de Clientes\n",
        "\n",
        "#### Grupo: ONE-G8\n",
        "#### Alumno: Eduardo Mendiola\n",
        "#### Fecha: 05/08/2025"
      ],
      "metadata": {
        "id": "002KZlBuhBVG"
      }
    },
    {
      "cell_type": "markdown",
      "source": [
        "##💡Acerca del desafío 💡\n",
        "\n",
        "### Telecom X – Parte 2: Predicción de Cancelación (Churn)\n",
        "\n",
        "### 📣 Historia del Desafío\n",
        "\n",
        "¡Felicidades! 🎉 Has sido promovido después de tu excelente desempeño en el análisis exploratorio de la cancelación de clientes en Telecom X. Tu dedicación, claridad al comunicar los datos y visión estratégica marcaron la diferencia.\n",
        "\n",
        "Ahora, ¡has sido invitado oficialmente a formar parte del equipo de Machine Learning de la empresa!\n",
        "\n",
        "### 🎯 Misión\n",
        "\n",
        "Tu nueva misión es desarrollar modelos predictivos capaces de prever qué clientes tienen mayor probabilidad de cancelar sus servicios.\n",
        "\n",
        "La empresa quiere anticiparse al problema de la cancelación, y te corresponde a ti construir un pipeline robusto para esta etapa inicial de modelado.\n",
        "\n",
        "### 🧠 Objetivos del Desafío\n",
        "\n",
        "Preparar los datos para el modelado (tratamiento, codificación, normalización).\n",
        "\n",
        "Realizar análisis de correlación y selección de variables.\n",
        "\n",
        "Entrenar dos o más modelos de clasificación.\n",
        "\n",
        "Evaluar el rendimiento de los modelos con métricas.\n",
        "\n",
        "Interpretar los resultados, incluyendo la importancia de las variables.\n",
        "\n",
        "Crear una conclusión estratégica señalando los principales factores que influyen en la cancelación.\n",
        "\n",
        "### 🧰 Lo que vas a practicar\n",
        "\n",
        "✅ Preprocesamiento de datos para Machine Learning<br>\n",
        "✅ Construcción y evaluación de modelos predictivos<br>\n",
        "✅ Interpretación de resultados y entrega de insights<br>\n",
        "✅ Comunicación técnica con enfoque estratégico\n",
        "\n",
        "### 🚀 Ahora eres: Analista Junior de Machine Learning\n",
        "\n",
        "Telecom X confía en tu entrega para dar los próximos pasos hacia una solución de inteligencia predictiva eficaz. ¡Buena suerte!"
      ],
      "metadata": {
        "id": "3E9FMW4yiV2c"
      }
    },
    {
      "cell_type": "markdown",
      "source": [
        "## 🛠️ 1. Preparación de los Datos"
      ],
      "metadata": {
        "id": "xdD1qrztkdtM"
      }
    },
    {
      "cell_type": "markdown",
      "source": [
        "### 1.1. Extracción del Archivo Tratado\n",
        "\n",
        "Carga el archivo CSV que contiene los datos tratados anteriormente.\n",
        "\n",
        "📂 **Atención:** Utiliza el mismo archivo que limpiaste y organizaste en la Parte 1 del desafío Telecom X. Debe contener solo las columnas relevantes, ya con los datos corregidos y estandarizados."
      ],
      "metadata": {
        "id": "S-NnKA78iGbN"
      }
    },
    {
      "cell_type": "code",
      "execution_count": null,
      "metadata": {
        "id": "AzfNYHjkg56n"
      },
      "outputs": [],
      "source": []
    },
    {
      "cell_type": "markdown",
      "source": [
        "### 1.2. Eliminación de Columnas Irrelevantes\n",
        "\n",
        "Elimina columnas que no aportan valor al análisis o a los modelos predictivos, como identificadores únicos (por ejemplo, el ID del cliente). Estas columnas no ayudan en la predicción de la cancelación y pueden incluso perjudicar el desempeño de los modelos."
      ],
      "metadata": {
        "id": "uN8ssm_ajErt"
      }
    },
    {
      "cell_type": "code",
      "source": [],
      "metadata": {
        "id": "FxuzNk6-jYB0"
      },
      "execution_count": null,
      "outputs": []
    },
    {
      "cell_type": "markdown",
      "source": [
        "### 1.3. Encoding\n",
        "\n",
        "Transforma las variables categóricas a formato numérico para hacerlas compatibles con los algoritmos de machine learning. Utiliza un método de codificación adecuado, como one-hot encoding.\n",
        "\n",
        "🔎 Sugerencia:\n",
        "Puedes consultar este artículo para entender mejor cuándo usar **get_dummies** o **OneHotEncoder**:\n",
        "[Artículo en Alura sobre codificación categórica](http://falta-link.com/)"
      ],
      "metadata": {
        "id": "Zj5pkpLrjYYr"
      }
    },
    {
      "cell_type": "code",
      "source": [],
      "metadata": {
        "id": "IjBzu4JAjtKt"
      },
      "execution_count": null,
      "outputs": []
    },
    {
      "cell_type": "markdown",
      "source": [
        "### 1.4. Verificación de la Proporción de Cancelación (Churn)\n",
        "\n",
        "Calcula la proporción de clientes que cancelaron en relación con los que permanecieron activos. Evalúa si existe un desbalance entre las clases, ya que esto puede impactar en los modelos predictivos y en el análisis de los resultados.\n",
        "\n",
        "🔎 Sugerencia:\n",
        "Puedes usar **value_counts()** de pandas para obtener esta proporción:\n",
        "[Documentación oficial de **value_counts()**](https://pandas.pydata.org/docs/reference/api/pandas.DataFrame.value_counts.html)"
      ],
      "metadata": {
        "id": "x0M-g3U2jtdV"
      }
    },
    {
      "cell_type": "code",
      "source": [],
      "metadata": {
        "id": "FpMN8hV-j_wc"
      },
      "execution_count": null,
      "outputs": []
    },
    {
      "cell_type": "markdown",
      "source": [
        "### 1.5. Balanceo de Clases (opcional)\n",
        "\n",
        "Si deseas profundizar en el análisis, aplica técnicas de balanceo como **undersampling** o **oversampling**. En situaciones de fuerte desbalanceo, herramientas como **SMOTE** pueden ser útiles para generar ejemplos sintéticos de la clase minoritaria.\n",
        "\n",
        "🔎 **Sugerencia:**\n",
        "Puedes leer más sobre cómo manejar el desbalanceo de clases en este artículo:\n",
        "[Artículo en Alura sobre desbalanceo de datos](https://www.alura.com.br/artigos/lidando-com-desbalanceamento-dados?srsltid=AfmBOopTgyC_tpujwkC778gYjcLituqgxknih2Cr4vD72_OFHSB4v35M)"
      ],
      "metadata": {
        "id": "dS0473NUkALF"
      }
    },
    {
      "cell_type": "code",
      "source": [],
      "metadata": {
        "id": "HQv9QhKxkUes"
      },
      "execution_count": null,
      "outputs": []
    },
    {
      "cell_type": "markdown",
      "source": [
        "### 1.6. Normalización o Estandarización (si es necesario)\n",
        "\n",
        "Evalúa la necesidad de normalizar o estandarizar los datos, según los modelos que se aplicarán. Modelos basados en distancia, como **KNN, SVM, Regresión Logística** y **Redes Neuronales**, requieren este preprocesamiento. Por otro lado, modelos basados en árboles, como **Decision Tree, Random Forest** y **XGBoost**, no son sensibles a la escala de los datos.\n",
        "\n",
        "🔎 **Sugerencia:**\n",
        "Puedes leer más sobre normalización y estandarización de datos en este artículo:\n",
        "[Artículo en Medium sobre normalización y estandarización en Machine Learning](https://medium.com/ipnet-growth-partner/padronizacao-normalizacao-dados-machine-learning-f8f29246c12)"
      ],
      "metadata": {
        "id": "NPKzqTsBkU-U"
      }
    },
    {
      "cell_type": "code",
      "source": [],
      "metadata": {
        "id": "KxSUzpFTlFA1"
      },
      "execution_count": null,
      "outputs": []
    },
    {
      "cell_type": "markdown",
      "source": [
        "## 2. 🎯 Correlación y Selección de Variables"
      ],
      "metadata": {
        "id": "OuF6xGEZlFSU"
      }
    },
    {
      "cell_type": "markdown",
      "source": [
        "### 2.1 Análisis de Correlación\n",
        "\n",
        "Visualiza la matriz de correlación para identificar relaciones entre las variables numéricas. Presta especial **atención a las variables que muestran una mayor correlación con la cancelación**, ya que estas pueden ser fuertes candidatas para el modelo predictivo."
      ],
      "metadata": {
        "id": "w3kwCCLGlP9k"
      }
    },
    {
      "cell_type": "code",
      "source": [],
      "metadata": {
        "id": "YDjr0qgYnOr1"
      },
      "execution_count": null,
      "outputs": []
    },
    {
      "cell_type": "markdown",
      "source": [
        "### 2.2 Análisis Dirigido\n",
        "\n",
        "Investiga cómo variables específicas se relacionan con la cancelación, tales como:\n",
        "\n",
        "* **Tiempo de contrato** x **Cancelación**\n",
        "\n",
        "* **Gasto total** x **Cancelación**\n",
        "\n",
        "Utiliza gráficos como **boxplots** o **scatter plots** para visualizar patrones y posibles tendencias."
      ],
      "metadata": {
        "id": "YokjLWdxnO_k"
      }
    },
    {
      "cell_type": "code",
      "source": [],
      "metadata": {
        "id": "FV9ZrQ6un9pV"
      },
      "execution_count": null,
      "outputs": []
    },
    {
      "cell_type": "markdown",
      "source": [
        "## 3. 🤖 Modelado Predictivo"
      ],
      "metadata": {
        "id": "5OKMHcQ0n-ID"
      }
    },
    {
      "cell_type": "markdown",
      "source": [
        "### 3.1. Separación de Datos\n",
        "\n",
        "Divide el conjunto de datos en **entrenamiento** y **prueba** para evaluar el rendimiento del modelo. Una división común es **70% para entrenamiento** y **30% para prueba**, o **80/20**, dependiendo del tamaño de la base de datos."
      ],
      "metadata": {
        "id": "gpmUm5EkoFK8"
      }
    },
    {
      "cell_type": "code",
      "source": [],
      "metadata": {
        "id": "xj0wN65goY98"
      },
      "execution_count": null,
      "outputs": []
    },
    {
      "cell_type": "markdown",
      "source": [
        "### 3.2. Creación de Modelos\n",
        "\n",
        "Crea al menos dos modelos diferentes para predecir la cancelación de clientes.\n",
        "\n",
        "Un modelo puede requerir normalización, como **Regresión Logística** o **KNN**.\n",
        "\n",
        "El otro modelo puede no requerir normalización, como **Árbol de Decisión** o **Random Forest**.\n",
        "\n",
        "💡 La decisión de aplicar o no la normalización depende de los modelos seleccionados. Ambos modelos pueden ser creados sin normalización, pero también es una opción combinar modelos con y sin normalización.\n",
        "\n",
        "**Justificación:**\n",
        "\n",
        "* **Regresión Logística / KNN**: Estos modelos son sensibles a la escala de los datos, por lo que la normalización es importante para que los coeficientes o las distancias se calculen correctamente.\n",
        "\n",
        "* **Árbol de Decisión / Random Forest**: Estos modelos no dependen de la escala de los datos, por lo que no es necesario aplicar normalización.\n",
        "\n",
        "Si decides normalizar los datos, deberías explicar cómo esta etapa asegura que los modelos basados en distancia o en optimización de parámetros no se vean sesgados por la magnitud de las variables."
      ],
      "metadata": {
        "id": "cdYOZEMCoZOs"
      }
    },
    {
      "cell_type": "code",
      "source": [],
      "metadata": {
        "id": "Wz5eLeYxqEO8"
      },
      "execution_count": null,
      "outputs": []
    },
    {
      "cell_type": "markdown",
      "source": [
        "### 3.3. Evaluación de los Modelos\n",
        "\n",
        "Evalúa cada modelo utilizando las siguientes métricas:\n",
        "\n",
        "* **Exactitud (Acurácia)**\n",
        "* **Precisión**\n",
        "* **Recall**\n",
        "* **F1-score**\n",
        "* **Matriz de confusión**\n",
        "\n",
        "Después, realiza un análisis crítico y compara los modelos:\n",
        "\n",
        "* ¿Cuál modelo tuvo el mejor desempeño?\n",
        "\n",
        "* ¿Algún modelo presentó **overfitting** o **underfitting**? Si es así, considera las posibles causas y ajustes:\n",
        "\n",
        " * **Overfitting**: Cuando el modelo aprende demasiado sobre los datos de entrenamiento, perdiendo la capacidad de generalizar a nuevos datos. Considera reducir la complejidad del modelo o aumentar los datos de entrenamiento.\n",
        "\n",
        "  * **Underfitting**: Cuando el modelo no captura bien las tendencias de los datos, lo que indica que es demasiado simple. Intenta aumentar la complejidad del modelo o ajustar sus parámetros."
      ],
      "metadata": {
        "id": "mxSk-IT2qEqj"
      }
    },
    {
      "cell_type": "code",
      "source": [],
      "metadata": {
        "id": "oF3GRFSLqrtF"
      },
      "execution_count": null,
      "outputs": []
    },
    {
      "cell_type": "markdown",
      "source": [
        "## 4. 📋 Interpretación y Conclusiones"
      ],
      "metadata": {
        "id": "-RIz_LhjqsHU"
      }
    },
    {
      "cell_type": "markdown",
      "source": [
        "### 4.1 Análisis de la Importancia de las Variables\n",
        "\n",
        "Después de elegir los modelos, realiza el análisis de las variables más relevantes para la predicción de la cancelación:\n",
        "\n",
        "* **Regresión Logística**: Investiga los coeficientes de las variables, que muestran su contribución a la predicción de cancelación.\n",
        "\n",
        "* **KNN (K-Nearest Neighbors)**: Observa cómo los vecinos más cercanos influyen en la decisión de clasificación. Las variables más impactantes pueden ser aquellas que más contribuyen a la proximidad entre los puntos de datos.\n",
        "\n",
        "* **Random Forest**: Utiliza la importancia de las variables proporcionada por el modelo. Random Forest calcula la importancia basándose en cómo cada variable contribuye a la reducción de la impureza durante las divisiones de los árboles.\n",
        "\n",
        "* **SVM (Support Vector Machine)**: En el SVM, las variables más relevantes son aquellas que influyen en la frontera de decisión entre las clases. Puedes analizar los coeficientes de los vectores de soporte para entender qué variables tienen mayor impacto.\n",
        "\n",
        "* **Otros Modelos**: Dependiendo del modelo elegido, considera el análisis de métricas específicas para comprender la relevancia de las variables. Por ejemplo, coeficientes en modelos lineales, pesos en redes neuronales, o la importancia relativa en técnicas de boosting (como XGBoost)."
      ],
      "metadata": {
        "id": "A-ZvZpx2q4JE"
      }
    },
    {
      "cell_type": "code",
      "source": [],
      "metadata": {
        "id": "_oKx1J12qx_M"
      },
      "execution_count": null,
      "outputs": []
    },
    {
      "cell_type": "markdown",
      "source": [
        "### 4.2. Conclusión\n",
        "\n",
        "Elaboren un informe detallado, destacando los factores que más influyen en la cancelación, basándose en las variables seleccionadas y en el rendimiento de cada modelo.\n",
        "\n",
        "Identifiquen los **principales factores** que afectan la cancelación de clientes y propongan estrategias de retención basadas en los resultados obtenidos."
      ],
      "metadata": {
        "id": "cuwd4wTmrM-k"
      }
    }
  ]
}